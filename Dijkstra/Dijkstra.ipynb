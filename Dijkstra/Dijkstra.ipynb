{
 "cells": [
  {
   "cell_type": "code",
   "execution_count": 1,
   "metadata": {},
   "outputs": [
    {
     "data": {
      "text/plain": [
       "11.0"
      ]
     },
     "execution_count": 1,
     "metadata": {},
     "output_type": "execute_result"
    }
   ],
   "source": [
    "import numpy as np\n",
    "import heapq\n",
    "\n",
    "# Adjacency list\n",
    "adj = {\n",
    "    'A': {'B': 4, 'C': 2, 'G': 7}, \n",
    "    'B': { 'A': 4, 'D': 2 }, \n",
    "    'C': { 'A': 2, 'F': 8, 'G': 3 },\n",
    "    'D': { 'B': 2, 'G': 5, 'H': 6 },\n",
    "    'F': { 'C': 8, 'J': 3 },\n",
    "    'G': { 'A': 7, 'C': 3, 'D': 5, 'J': 4 },\n",
    "    'H': { 'D': 6, 'J': 2 },\n",
    "    'J': { 'F': 3, 'G': 4, 'H': 2}\n",
    "    }\n",
    "\n",
    "edges = 0\n",
    "for group in adj.values():\n",
    "    for _ in group.values():\n",
    "        edges += 1\n",
    "\n",
    "edges /= 2\n",
    "edges"
   ]
  },
  {
   "cell_type": "code",
   "execution_count": 12,
   "metadata": {},
   "outputs": [
    {
     "name": "stdout",
     "output_type": "stream",
     "text": [
      "{'A': 5, 'B': 7, 'C': 3, 'D': 5, 'F': 7, 'G': 0, 'H': 6, 'J': 4}\n"
     ]
    }
   ],
   "source": [
    "# Initialize cost array\n",
    "costs = { key: np.inf for key in 'ABCDFGHJ' }\n",
    "\n",
    "# Starting node\n",
    "start = 'A'\n",
    "\n",
    "# Initialize cost of start = 0\n",
    "costs[start] = 0\n",
    "\n",
    "# Initialize queue\n",
    "queue = []\n",
    "for key, cost in costs.items():\n",
    "    queue.append([cost, key])\n",
    "\n",
    "source = start\n",
    "\n",
    "while len(queue) > 0:\n",
    "    heapq.heapify(queue)\n",
    "    source_weight, source = heapq.heappop(queue)\n",
    "    # print(f'{source} looking at: ', end='')\n",
    "    for node, weight in adj[source].items():\n",
    "        cost = costs[source] + weight\n",
    "        if cost < costs[node]:\n",
    "            # print(f'{node}, ', end='')\n",
    "            idx = queue.index([costs[node], node])\n",
    "            queue[idx] = [cost, node]\n",
    "            costs[node] = cost\n",
    "\n",
    "print(costs)"
   ]
  },
  {
   "cell_type": "code",
   "execution_count": 48,
   "metadata": {},
   "outputs": [
    {
     "data": {
      "text/plain": [
       "[[2, 'A']]"
      ]
     },
     "execution_count": 48,
     "metadata": {},
     "output_type": "execute_result"
    }
   ],
   "source": [
    "import heapq\n",
    "\n",
    "h = []\n",
    "priorities = [[3, 'A']]\n",
    "heapq.heappush(h, priorities[0])\n",
    "priorities[0][0] = 2\n",
    "heapq.heapify(h)\n",
    "h"
   ]
  },
  {
   "cell_type": "code",
   "execution_count": null,
   "metadata": {},
   "outputs": [],
   "source": []
  }
 ],
 "metadata": {
  "kernelspec": {
   "display_name": "cs180",
   "language": "python",
   "name": "python3"
  },
  "language_info": {
   "codemirror_mode": {
    "name": "ipython",
    "version": 3
   },
   "file_extension": ".py",
   "mimetype": "text/x-python",
   "name": "python",
   "nbconvert_exporter": "python",
   "pygments_lexer": "ipython3",
   "version": "3.11.3"
  },
  "orig_nbformat": 4
 },
 "nbformat": 4,
 "nbformat_minor": 2
}
